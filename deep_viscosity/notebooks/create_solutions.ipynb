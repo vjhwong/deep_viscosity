{
 "cells": [
  {
   "cell_type": "markdown",
   "metadata": {},
   "source": [
    "# Creating the glycerol solutions\n",
    "\n",
    "This notebook was created in order to calculate what weights of water and 98% glycerol had to be mixed to get the solutions with the desired glycerol weight percentages"
   ]
  },
  {
   "cell_type": "code",
   "execution_count": null,
   "metadata": {},
   "outputs": [],
   "source": [
    "import numpy as np"
   ]
  },
  {
   "cell_type": "code",
   "execution_count": null,
   "metadata": {},
   "outputs": [],
   "source": [
    "def calculate_dilution_series(total_volume: float, glycerol_percentage: list[float]):\n",
    "\n",
    "    original_glycerol_solution_percentage = 0.98\n",
    "    density_water = 1\n",
    "    density_glycerol = 1.226\n",
    "\n",
    "    water_weights = []\n",
    "    glycerol_weights = []\n",
    "    for glycerol_percentage in glycerol_percentage:\n",
    "\n",
    "        total_density = (\n",
    "            glycerol_percentage\n",
    "            * original_glycerol_solution_percentage\n",
    "            * density_glycerol\n",
    "            + (1 - glycerol_percentage)\n",
    "            * (1 + (1 - original_glycerol_solution_percentage) * glycerol_percentage)\n",
    "            * density_water\n",
    "        )\n",
    "        total_weight = total_density * total_volume\n",
    "        weight_glycerol = (\n",
    "            glycerol_percentage / original_glycerol_solution_percentage * total_weight\n",
    "        )\n",
    "        weight_water = total_weight - weight_glycerol\n",
    "        water_weights.append(weight_water)\n",
    "        glycerol_weights.append(weight_glycerol)\n",
    "\n",
    "    return (water_weights, glycerol_weights)"
   ]
  },
  {
   "cell_type": "code",
   "execution_count": null,
   "metadata": {},
   "outputs": [],
   "source": [
    "percentages = [\n",
    "    0.89,\n",
    "    0.88,\n",
    "    0.87,\n",
    "    0.86,\n",
    "    0.85,\n",
    "    0.825,\n",
    "    0.80,\n",
    "    0.75,\n",
    "    0.70,\n",
    "    0.65,\n",
    "    0.60,\n",
    "    0.50,\n",
    "    0.40,\n",
    "    0.30,\n",
    "    0.20,\n",
    "    0.10,\n",
    "    0.0,\n",
    "][::-1] + list(np.arange(0.90, 0.981, 0.0025))\n",
    "percentages = list(map(lambda x: round(x, 4), percentages))[::-1]\n",
    "\n",
    "total_volume = 4\n",
    "water_weights, glycerol_weights = calculate_dilution_series(total_volume, percentages)\n",
    "\n",
    "for i in range(len(percentages)):\n",
    "    print(\n",
    "        f'{\"{:5.2f}\".format(percentages[i]*100)}%: {\"{:.3f}\".format(water_weights[i])} g water + {\"{:.3f}\".format(glycerol_weights[i])} g glycerol solution'\n",
    "    )"
   ]
  }
 ],
 "metadata": {
  "language_info": {
   "name": "python"
  }
 },
 "nbformat": 4,
 "nbformat_minor": 2
}
